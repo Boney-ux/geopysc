{
 "cells": [
  {
   "cell_type": "markdown",
   "id": "c9ce8a06",
   "metadata": {},
   "source": [
    "# Create interactive maps\n"
   ]
  },
  {
   "cell_type": "code",
   "execution_count": null,
   "id": "6116a59a",
   "metadata": {},
   "outputs": [],
   "source": [
    "import geopysc"
   ]
  },
  {
   "cell_type": "code",
   "execution_count": null,
   "id": "80e4ca57",
   "metadata": {},
   "outputs": [],
   "source": [
    "from geopysc.common import hello_world"
   ]
  },
  {
   "cell_type": "code",
   "execution_count": null,
   "id": "1a9afbe9",
   "metadata": {},
   "outputs": [],
   "source": [
    "hello_world()"
   ]
  }
 ],
 "metadata": {
  "kernelspec": {
   "display_name": "geo",
   "language": "python",
   "name": "python3"
  },
  "language_info": {
   "codemirror_mode": {
    "name": "ipython",
    "version": 3
   },
   "file_extension": ".py",
   "mimetype": "text/x-python",
   "name": "python",
   "nbconvert_exporter": "python",
   "pygments_lexer": "ipython3",
   "version": "3.12.11"
  }
 },
 "nbformat": 4,
 "nbformat_minor": 5
}
